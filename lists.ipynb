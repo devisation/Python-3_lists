{
 "cells": [
  {
   "cell_type": "markdown",
   "metadata": {},
   "source": [
    "1"
   ]
  },
  {
   "cell_type": "code",
   "execution_count": 62,
   "metadata": {},
   "outputs": [],
   "source": [
    "import numpy as np"
   ]
  },
  {
   "cell_type": "code",
   "execution_count": 63,
   "metadata": {},
   "outputs": [
    {
     "name": "stdout",
     "output_type": "stream",
     "text": [
      "14 174\n"
     ]
    }
   ],
   "source": [
    "my_list = [34, 56, 76, 45, 2, 12, 67, 98, 37, 54, 66]\n",
    "sorted_list = np.sort(my_list)\n",
    "sum_two_lowest = np.sum(sorted_list[:2])\n",
    "sum_two_highest = np.sum(sorted_list[-2:])\n",
    "print(sum_two_lowest, sum_two_highest)"
   ]
  },
  {
   "cell_type": "markdown",
   "metadata": {},
   "source": [
    "2"
   ]
  },
  {
   "cell_type": "code",
   "execution_count": 64,
   "metadata": {},
   "outputs": [
    {
     "name": "stdout",
     "output_type": "stream",
     "text": [
      "The score for Lisa is 73\n"
     ]
    }
   ],
   "source": [
    "names = [\"David\", \"Michael\", \"John\", \"James\", \"Greg\", \"Mark\", \"William\", \"Richard\", \"Thomas\", \"Steven\", \"Mary\", \"Susan\", \"Maria\", \"Karen\", \"Lisa\", \"Linda\", \"Donna\", \"Patricia\", \"Debra\", \"Eric\"]\n",
    "scores = [99, 87, 78, 86, 68, 94, 76, 97, 56, 98, 76, 87, 79, 90, 73, 93, 82, 69, 97, 98]\n",
    "score_roster = {names[i]: scores[i] for i in range(len(scores))}\n",
    "\n",
    "requested_name = input(\"Please enter the name of a student who's score you'd like to see:\").capitalize()\n",
    "requested_score = score_roster[requested_name]\n",
    "print(f'The score for {requested_name} is {requested_score}')"
   ]
  },
  {
   "cell_type": "markdown",
   "metadata": {},
   "source": [
    "3"
   ]
  },
  {
   "cell_type": "code",
   "execution_count": 65,
   "metadata": {},
   "outputs": [
    {
     "name": "stdout",
     "output_type": "stream",
     "text": [
      "1 student(s) got the maximum score of 99\n"
     ]
    }
   ],
   "source": [
    "highscore = np.sort(scores)[-1]\n",
    "highscore_count = scores.count(highscore)\n",
    "print(f'{highscore_count} student(s) got the maximum score of {highscore}')"
   ]
  },
  {
   "cell_type": "markdown",
   "metadata": {},
   "source": [
    "4"
   ]
  },
  {
   "cell_type": "code",
   "execution_count": 66,
   "metadata": {},
   "outputs": [
    {
     "name": "stdout",
     "output_type": "stream",
     "text": [
      "[['January', 31], ['February', 28], ['March', 31], ['April', 30], ['May', 31], ['June', 30], ['July', 31], ['August', 31], ['September', 30], ['October', 31], ['November', 30], ['December', 31]]\n"
     ]
    }
   ],
   "source": [
    "from calendar import monthrange\n",
    "year = 2022\n",
    "months_in_a_yr = ['January', 'February', 'March', 'April', 'May', 'June', 'July', 'August', \n",
    "                  'September', 'October', 'November', 'December']\n",
    "get_month_number = {months_in_a_yr[i]: i+1 for i in range(len(months_in_a_yr))}\n",
    "\n",
    "calendar_num_days = [[month, monthrange(year, get_month_number[month])[1]]\n",
    "                     for month in months_in_a_yr]\n",
    "print(calendar_num_days)\n",
    "# print(np.array(calendar_num_days).T) # column form"
   ]
  },
  {
   "cell_type": "markdown",
   "metadata": {},
   "source": [
    "5"
   ]
  },
  {
   "cell_type": "code",
   "execution_count": 67,
   "metadata": {},
   "outputs": [
    {
     "name": "stdout",
     "output_type": "stream",
     "text": [
      "{'Winter': [['December', 31], ['January', 31], ['February', 28]], 'Spring': [['March', 31], ['April', 30], ['May', 31]], 'Summer': [['June', 30], ['July', 31], ['August', 31]], 'Fall': [['September', 30], ['October', 31], ['November', 30]]} \n",
      "\n",
      "Winter contains the months ['December' 'January' 'February']\n",
      "Spring contains the months ['March' 'April' 'May']\n",
      "Summer contains the months ['June' 'July' 'August']\n",
      "Fall contains the months ['September' 'October' 'November']\n"
     ]
    }
   ],
   "source": [
    "season_intervals = [[12, 2], #['December', 'February'] # winter\n",
    "                    [3, 5],  #['March', 'May'] # spring\n",
    "                    [6, 8],  #['June', 'August'] # summer\n",
    "                    [9, 11]] #['September', 'November'] # fall\n",
    "season_names = ['Winter', 'Spring', 'Summer', 'Fall']\n",
    "seasons_dict = {season : [] for season in season_names}\n",
    "for i,season in enumerate(season_names):\n",
    "    month_start, month_end = np.array(season_intervals[i])-1\n",
    "    month_index = month_start\n",
    "    month_index_list = list()\n",
    "    while month_index%12 != month_end+1:\n",
    "        month_index_list.append(month_index%12)\n",
    "        month_index += 1\n",
    "    months_in_season = [calendar_num_days[mo_index] for mo_index in month_index_list]\n",
    "    seasons_dict[season] = months_in_season\n",
    "print(seasons_dict, '\\n')\n",
    "\n",
    "seasons_arr = np.array([[s, seasons_dict[s]] for s in season_names], dtype='object')\n",
    "for s in seasons_arr:\n",
    "    print(s[0], 'contains the months', np.array(s[1]).T[0])"
   ]
  },
  {
   "cell_type": "markdown",
   "metadata": {},
   "source": [
    "6"
   ]
  },
  {
   "cell_type": "code",
   "execution_count": 68,
   "metadata": {},
   "outputs": [
    {
     "name": "stdout",
     "output_type": "stream",
     "text": [
      "The summer season lasts 92 days\n"
     ]
    }
   ],
   "source": [
    "season_to_analyze = \"summer\"\n",
    "season_months_and_days = np.array(seasons_dict[season_to_analyze.capitalize()])\n",
    "lengths_of_season_months = season_months_and_days.T[1].astype(int)\n",
    "season_length_in_days = np.sum(lengths_of_season_months)\n",
    "print(f'The {season_to_analyze.lower()} season lasts {season_length_in_days} days')"
   ]
  },
  {
   "cell_type": "code",
   "execution_count": null,
   "metadata": {},
   "outputs": [],
   "source": []
  }
 ],
 "metadata": {
  "interpreter": {
   "hash": "23721f7ccdba8d10dbed52de1ec10dc723c7659d2c7ca391d31ecfb7851a1907"
  },
  "kernelspec": {
   "display_name": "Python 3.9.12 ('DataSci')",
   "language": "python",
   "name": "python3"
  },
  "language_info": {
   "codemirror_mode": {
    "name": "ipython",
    "version": 3
   },
   "file_extension": ".py",
   "mimetype": "text/x-python",
   "name": "python",
   "nbconvert_exporter": "python",
   "pygments_lexer": "ipython3",
   "version": "3.9.12"
  },
  "orig_nbformat": 4
 },
 "nbformat": 4,
 "nbformat_minor": 2
}
